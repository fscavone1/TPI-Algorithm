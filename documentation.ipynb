{
 "cells": [
  {
   "cell_type": "markdown",
   "metadata": {},
   "source": [
    "# Targeting with Partial Incentives - Reti Sociali 2019/2020\n",
    "Graziuso Catello, Marzullo Francesco, Scavone Francesca"
   ]
  },
  {
   "cell_type": "markdown",
   "metadata": {},
   "source": [
    "## Introduzione\n",
    "Lo spreading attraverso la rete riflette la situazione in cui i comportamenti si trasmettono a cascata da un nodo ad un altro come una epidemia. È un processo per il quale un pezzo di informazione viene diffuso e raggiunge gli individui attraverso le interazioni che esistono tra di loro. Questo processo viene definito formalmente come **Network Cascade**. Esso si occupa del contagio che si diffonde lungo gli archi della rete. I modelli per il Network Cascade permettono di comprendere la diffusione, all'interno di una rete, di informazioni/epidemie. L'obiettivo è cercare di capire cosa può causare e come può avvenire la massimizzazione all'interno della rete, ovvero di selezionare un seed set di taglia minima iniziale così da garantire l'influenza del maggior numero di nodi all'interno della rete. Questo lavoro è stato effettuato da Kempe e Kleinberg nel 2003.\n",
    "In questo contesto risulta fondamentale l'identificazione di quei clienti con una maggiore influenza sul mercato per attirare un gran numero di acquirenti. Essi risulterebbero utili a convincere tutti gli altri nodi all'interno della rete, come gli influencer su Instagram. Quindi tramite incentivi, si può convincere un insieme di persone influenti che possono consigliare un prodotto per contribuire alla sua diffusione.\n",
    "Uno degli algoritmi pensato a tale scopo è il **Targeting with Partial Incentives (TPI)**\n"
   ]
  },
  {
   "cell_type": "markdown",
   "metadata": {},
   "source": [
    "## Descrizione dell'algoritmo\n",
    "L'algoritmo TPI rappresenta una evoluzione dell'algoritmo di **Target Set Selection**, la cui idea alla base prevede l'assegnazione di incentivi ai nodi.  Un'assegnazione di incentivi parziali ai vertici di una rete G=(V, E) con V={v<sub>1</sub>, ..., v<sub>n</sub>} è un vettore S= (s(v<sub>1</sub>), ..., s(v<sub>n</sub>)), dove s(v)∈{0,1,2, ...} rappresenta la quantità di influenza che inizialmente applichiamo su v∈V. \n",
    "Formalmente è definito come segue:\n",
    "- **Istanza**, una rete G= (V, E) con una funzione di soglie t:V→N\n",
    "- **Problema**, trovare un target vectorsche minimizza C(S) = Σ<sub>v∈V</sub> s(v)\n",
    "\n",
    "L'algoritmo  utilizzato  per  il  calcolo  degli  incentivi  è  riportato  di  seguito,  descritto  nell'articolo *\"Whom to be friend to influence people\"*.\n",
    "\n",
    "![tpi_algorithm](/images/tpi_algorithm.png)\n"
   ]
  },
  {
   "cell_type": "markdown",
   "metadata": {},
   "source": [
    "# Implementazione\n",
    "\n",
    "## Dataset\n",
    "I Dataset scelti per effettuare il testing sono i seguenti:\n",
    "- *ego-Facebook*, reperibile al seguente link:  https://snap.stanford.edu/data/ego-Facebook.html\n",
    "- *ego-Twitter*, reperibile al seguente link:  https://snap.stanford.edu/data/ego-Twitter.html\n",
    "\n",
    "| Parametri                  | ego-facebook | ego-twitter |\n",
    "|----------------------------|--------------|-------------|\n",
    "| Numero di nodi             | 4039         | 81306       |\n",
    "| Numero di archi            | 88234        | 1342310     |\n",
    "| Grado Massimo              | 1045         | 3383        |\n",
    "| Coefficiente di Clustering | 0.6055       | 0.5653      |"
   ]
  },
  {
   "cell_type": "markdown",
   "metadata": {},
   "source": [
    "## Struttura del progetto\n",
    "In fase preliminare, selezionato un grafo non direzionato G=(V,E) è stato applicato il principio di decisione differita: per ogni arco del grafo è stato generato un numero pseudocasuale compreso tra 0 e 1. Se il numero generato risultava minore della probabilità presente sull'arco, l'arco veniva rimosso. \n",
    "Il grafo così ottenuto è stato dato in input all'algoritmo TPI, che calcola l'\n",
    "insieme soluzione e restituisce in output il numero di incentivi totali forniti. Questa ultima procedura viene iterata per un numero ben definito di volte e viene poi calcolata la media delle soluzioni fornite.\n",
    "\n",
    "### Metodi sviluppati\n",
    "I metodi sviluppati per l'eliminazione degli archi sono i seguenti:\n",
    "\n",
    "**Probabilità randomica:**\n",
    "il coefficiente di probabilità di un arco e il coefficiente per la decisione differita sono stati entrambi generati in modo causale con un valore compreso tra 0 e 1, con una approsimazione di cinque cifre decimali. "
   ]
  },
  {
   "cell_type": "code",
   "execution_count": 1,
   "metadata": {},
   "outputs": [],
   "source": [
    "def edge_random_probability(graph):\n",
    "    print(\"Number of starting edges: \", graph.GetEdges())\n",
    "    for n in graph.Nodes():\n",
    "        remove_edge = []\n",
    "        for e in n.GetOutEdges():\n",
    "            random_edge_value = round(random.uniform(0.1, 1), 5)\n",
    "            random_del_value = round(random.uniform(0.1, 1), 5)\n",
    "            if random_edge_value >= random_del_value:\n",
    "                remove_edge.append(e)\n",
    "        for dest in remove_edge:\n",
    "            graph.DelEdge(n.GetId(), dest)\n",
    "    print(\"Number of remaining edges: \", graph.GetEdges())"
   ]
  },
  {
   "cell_type": "markdown",
   "metadata": {},
   "source": [
    "**Probabilità proporzionale al grado:** il coefficiente di probabilità di un arco è stato definito come il rapporto 1/|V| e il coefficiente per la decisione differita è stato generato in modo causale con un valore compreso tra 0 e 1, con una approssimazione di cinque cifre decimali. "
   ]
  },
  {
   "cell_type": "code",
   "execution_count": null,
   "metadata": {},
   "outputs": [],
   "source": [
    "def edge_proportional_to_degree_probability(graph):\n",
    "    print(\"Number of starting edges: \", graph.GetEdges())\n",
    "    for n in graph.Nodes():\n",
    "        remove_edge = []\n",
    "        for e in n.GetOutEdges():\n",
    "            random_edge_value = (1/n.GetDeg())\n",
    "            random_del_value = random.random()\n",
    "            if random_edge_value >= random_del_value:\n",
    "                remove_edge.append(e)\n",
    "        for dest in remove_edge:\n",
    "            graph.DelEdge(n.GetId(), dest)\n",
    "    print(\"Number of remaining edges: \", graph.GetEdges())"
   ]
  },
  {
   "cell_type": "markdown",
   "metadata": {},
   "source": [
    "I metodi sviluppati per l'assegnazione dei valori di threshold per ogni nodo sono descritti di seguito. Per poter assegnare il threshold ai nodi, il grafo è stato convertito in un formato ```PNEANet``` tramite la funzione fornita dalla libreria snap ```ConvertGraph``` che permette di inserire un attributo (intero) ai vertici.\n",
    "\n",
    "**Assegnazione randomica:** il threshold per ogni nodo è stato assegnato in modo casuale all'interno di un intervallo che va da 0 ad un valore di poco superiore grado del nodo. "
   ]
  },
  {
   "cell_type": "code",
   "execution_count": null,
   "metadata": {},
   "outputs": [],
   "source": [
    "def set_random_threshold(graph):\n",
    "    g = snap.ConvertGraph(snap.PNEANet, graph)\n",
    "    for n in g.Nodes():\n",
    "        max = n.GetDeg() + int((n.GetDeg()/100)*20+1)\n",
    "        random_value = random.randint(0, max)\n",
    "        g.AddIntAttrDatN(n.GetId(), random_value, \"threshold\")\n",
    "        print(\"Threshold of the node \", n.GetId(),\" with value\", \n",
    "        g.GetIntAttrDatN(n.GetId()))\n",
    "    return g"
   ]
  },
  {
   "cell_type": "markdown",
   "metadata": {},
   "source": [
    "**Assegnazione costante:** il threshold per ogni nodo viene passato in input dall'utente ed è costante per ogni nodo."
   ]
  },
  {
   "cell_type": "code",
   "execution_count": null,
   "metadata": {},
   "outputs": [],
   "source": [
    "def set_fixed_threshold(graph, value):\n",
    "    g = snap.ConvertGraph(snap.PNEANet, graph)\n",
    "    for n in g.Nodes():\n",
    "        g.AddIntAttrDatN(n.GetId(), value, \"threshold\")\n",
    "    return g"
   ]
  },
  {
   "cell_type": "markdown",
   "metadata": {},
   "source": [
    "**Assegnazione in base alla mediana:** il threshold per ogni nodo viene assegnato in base al valore della mediana calcolata sulla distribuzione dei gradi di tutti i nodi."
   ]
  },
  {
   "cell_type": "code",
   "execution_count": null,
   "metadata": {},
   "outputs": [],
   "source": [
    "def set_median_threshold(graph):\n",
    "    g = snap.ConvertGraph(snap.PNEANet, graph)\n",
    "    data=[]\n",
    "    print(\"Number of graph nodes: \", g.GetNodes())\n",
    "    for n in g.Nodes():\n",
    "        data.append(n.GetDeg())\n",
    "    value = median(data)\n",
    "    print(\"The median value is: \", value)\n",
    "    for n in g.Nodes():\n",
    "        g.AddIntAttrDatN(n.GetId(), value, \"threshold\")\n",
    "        print(\"Threshold of the node \", n.GetId(), \" with value \", g.GetIntAttrDatN(n.GetId()))\n",
    "        i\n",
    "    return g"
   ]
  },
  {
   "cell_type": "markdown",
   "metadata": {},
   "source": [
    "**Assegnazione proporzionale al grado:** il threshold per ogni nodo viene assegnato in relazione al loro grado. Il valore è dato dal prodotto del grado per un valore ben definito, passato in input, in un intervallo che va da 0.1 a 0.9, a cui viene sommato il valore 1."
   ]
  },
  {
   "cell_type": "code",
   "execution_count": null,
   "metadata": {},
   "outputs": [],
   "source": [
    "def set_degree_proportional_thresholds(graph, value):\n",
    "    g = snap.ConvertGraph(snap.PNEANet, graph)\n",
    "    print(\"Number of graph nodes: \", g.GetNodes())\n",
    "    for n in g.Nodes():\n",
    "        g.AddIntAttrDatN(n.GetId(), math.floor(n.GetDeg() * value) + 1, \"threshold\")\n",
    "    return g"
   ]
  },
  {
   "cell_type": "markdown",
   "metadata": {},
   "source": [
    "## Implementazione algoritmo TPI in Python"
   ]
  },
  {
   "cell_type": "code",
   "execution_count": null,
   "metadata": {},
   "outputs": [],
   "source": [
    "def tpi(graph):\n",
    "    count = 0\n",
    "    count_2 = 0\n",
    "    count_3 = 0\n",
    "    nodes = []              #U\n",
    "\n",
    "    for n in graph.Nodes():\n",
    "        nodes.append(n.GetId())\n",
    "\n",
    "    incentives = {}         #s(v)\n",
    "    degrees = {}            #delta(v)\n",
    "    thresholds = {}         #k(v)\n",
    "    neighbors = {}          #N(v)\n",
    "    \n",
    "    for v in graph.Nodes():\n",
    "        incentives[v.GetId()] = 0\n",
    "        degrees[v.GetId()] = v.GetOutDeg()\n",
    "        thresholds[v.GetId()] = graph.GetIntAttrDatN(v.GetId(), \"threshold\")\n",
    "        temp_neigh = []\n",
    "        for Id in v.GetOutEdges():\n",
    "            temp_neigh.append(Id)\n",
    "        neighbors[v.GetId()] = temp_neigh\n",
    "\n",
    "    for v in nodes:\n",
    "        if not nodes:\n",
    "            break\n",
    "        \n",
    "        if thresholds.get(v) > degrees.get(v):\n",
    "            incentives[v] = incentives[v] + thresholds[v] - degrees[v]\n",
    "            count_3 += incentives[v]\n",
    "            count_2 += 1\n",
    "            thresholds[v] = degrees[v]\n",
    "            if thresholds[v] == 0:\n",
    "                nodes.remove(v)\n",
    "        else:\n",
    "            count += 1\n",
    "            local_max = {}\n",
    "            for u in nodes:\n",
    "                if degrees[u] != 0:\n",
    "                    local_max[u] = (thresholds[u]*\n",
    "                    (thresholds[u]+1))/(degrees[u]*(degrees[u]+1))\n",
    "            node = max(local_max, key=local_max.get)\n",
    "\n",
    "            if neighbors[node] is not None:\n",
    "                for u in neighbors[node]:\n",
    "                    degrees[u] -= 1\n",
    "                    if neighbors[u] is not None:\n",
    "                        neighbors[u] = neighbors[u].remove(node)\n",
    "                nodes.remove(node)\n",
    "\n",
    "    print(\"Number of total incentives:\", count_2, \"with total value of\", count_3, \"and number of remaining nodes:\", count)\n",
    "    return count_3"
   ]
  },
  {
   "cell_type": "markdown",
   "metadata": {},
   "source": []
  },
  {
   "cell_type": "code",
   "execution_count": null,
   "metadata": {},
   "outputs": [],
   "source": []
  }
 ],
 "metadata": {
  "language_info": {
   "codemirror_mode": {
    "name": "ipython",
    "version": 3
   },
   "file_extension": ".py",
   "mimetype": "text/x-python",
   "name": "python",
   "nbconvert_exporter": "python",
   "pygments_lexer": "ipython3",
   "version": "3.8.2-final"
  },
  "orig_nbformat": 2,
  "kernelspec": {
   "name": "python38264bit117e5b08c76c4c25acba4fd25a57e67d",
   "display_name": "Python 3.8.2 64-bit"
  }
 },
 "nbformat": 4,
 "nbformat_minor": 2
}